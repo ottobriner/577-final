{
 "cells": [
  {
   "cell_type": "code",
   "execution_count": 1,
   "metadata": {},
   "outputs": [
    {
     "name": "stderr",
     "output_type": "stream",
     "text": [
      "/home/otto/anaconda3/lib/python3.8/site-packages/geopandas/_compat.py:111: UserWarning: The Shapely GEOS version (3.9.1-CAPI-1.14.2) is incompatible with the GEOS version PyGEOS was compiled with (3.10.0-CAPI-1.16.0). Conversions between both will be slow.\n",
      "  warnings.warn(\n",
      "/home/otto/anaconda3/lib/python3.8/site-packages/requests/__init__.py:89: RequestsDependencyWarning: urllib3 (1.26.7) or chardet (3.0.4) doesn't match a supported version!\n",
      "  warnings.warn(\"urllib3 ({}) or chardet ({}) doesn't match a supported \"\n"
     ]
    }
   ],
   "source": [
    "import numpy as np\n",
    "import pandas as pd\n",
    "import geopandas as gpd\n",
    "import xarray as xr\n",
    "import rioxarray\n",
    "from shapely import wkt\n",
    "from libpysal import weights\n",
    "\n",
    "from cycler import cycler\n",
    "from matplotlib import pyplot as plt\n",
    "\n",
    "# global plotting settings\n",
    "plt.style.use(['ggplot'])\n",
    "\n",
    "\n",
    "default_cycler = (plt.rcParams['axes.prop_cycle'][:4]  +\n",
    "                  cycler(linestyle=['-', '--', ':', '-.']))\n",
    "\n",
    "plt.rcParams.update({'axes.grid' : True, \n",
    "                     'axes.facecolor' : 'white', \n",
    "                     'axes.edgecolor' : '.15',\n",
    "                     'grid.color' : '.8',\n",
    "                     'axes.prop_cycle' : default_cycler,\n",
    "                     'figure.figsize' : (15, 5)\n",
    "                    })\n"
   ]
  },
  {
   "cell_type": "code",
   "execution_count": null,
   "metadata": {},
   "outputs": [],
   "source": [
    "modis = (xr.open_dataset('./MOD11C3v6_LST_K_day&night_2000_2020_moclim/LSTdaytime_nc/MOD11C3v6_LST_K_daytime_2000_2020_MONTH_01.nc')\n",
    "           .to_dataframe().reset_index()\n",
    "        )"
   ]
  },
  {
   "cell_type": "code",
   "execution_count": null,
   "metadata": {},
   "outputs": [],
   "source": [
    "modis = modis.rename(columns={'modis_wgs84_0point5deg.tif' : 'modis',\n",
    "                           'x' : 'longitude',\n",
    "                           'y' : 'latitude'})\n",
    "\n",
    "modis = gpd.GeoDataFrame(modis, \n",
    "                        geometry=gpd.GeoSeries.from_xy(modis.longitude, modis.latitude), \n",
    "                        crs='epsg:4326')"
   ]
  }
 ],
 "metadata": {
  "kernelspec": {
   "display_name": "Python 3",
   "language": "python",
   "name": "python3"
  },
  "language_info": {
   "codemirror_mode": {
    "name": "ipython",
    "version": 3
   },
   "file_extension": ".py",
   "mimetype": "text/x-python",
   "name": "python",
   "nbconvert_exporter": "python",
   "pygments_lexer": "ipython3",
   "version": "3.8.5"
  }
 },
 "nbformat": 4,
 "nbformat_minor": 4
}
